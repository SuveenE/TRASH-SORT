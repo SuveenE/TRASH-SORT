{
 "cells": [
  {
   "cell_type": "code",
   "execution_count": 9,
   "metadata": {},
   "outputs": [],
   "source": [
    "from tensorflow.keras.preprocessing.image import ImageDataGenerator\n",
    "from tensorflow.keras.preprocessing import image\n",
    "from tensorflow.keras.optimizers import RMSprop\n",
    "import tensorflow as tf\n",
    "import matplotlib.pyplot as plt\n",
    "import cv2\n",
    "import os\n",
    "import numpy as np \n",
    "from tensorflow import keras\n"
   ]
  },
  {
   "cell_type": "code",
   "execution_count": 10,
   "metadata": {},
   "outputs": [],
   "source": [
    "train = ImageDataGenerator(\n",
    "    rescale=1./255,\n",
    "    shear_range=0.1,\n",
    "    zoom_range=0.1,\n",
    "    horizontal_flip=True)\n",
    "validation = ImageDataGenerator(rescale=1./255)\n",
    "test = ImageDataGenerator(rescale=1./255)"
   ]
  },
  {
   "cell_type": "code",
   "execution_count": 11,
   "metadata": {},
   "outputs": [
    {
     "name": "stdout",
     "output_type": "stream",
     "text": [
      "Found 1884 images belonging to 6 classes.\n",
      "Found 259 images belonging to 6 classes.\n",
      "Found 384 images belonging to 6 classes.\n"
     ]
    }
   ],
   "source": [
    "train_dataset = train.flow_from_directory(\n",
    "   'dataset-splitted/training-set/',\n",
    "    target_size=(224,224),\n",
    "    class_mode='categorical',\n",
    "    batch_size=32)\n",
    "validation_dataset = validation.flow_from_directory(\n",
    "     'dataset-splitted/validation-set/',\n",
    "    target_size=(224,224),\n",
    "    class_mode='categorical',\n",
    "    batch_size=32)\n",
    "test_dataset = test.flow_from_directory(\n",
    "    'dataset-splitted/test-set/',\n",
    "    target_size=(224,224),\n",
    "    batch_size=32, \n",
    "    shuffle=False)"
   ]
  },
  {
   "cell_type": "code",
   "execution_count": 12,
   "metadata": {},
   "outputs": [
    {
     "data": {
      "text/plain": [
       "{'cardboard': 0, 'glass': 1, 'metal': 2, 'paper': 3, 'plastic': 4, 'trash': 5}"
      ]
     },
     "execution_count": 12,
     "metadata": {},
     "output_type": "execute_result"
    }
   ],
   "source": [
    "train_dataset.class_indices"
   ]
  },
  {
   "cell_type": "code",
   "execution_count": 13,
   "metadata": {},
   "outputs": [],
   "source": [
    "model=keras.models.Sequential([keras.layers.Conv2D(16,(3,3),activation='relu', input_shape=(224,224,3)),\n",
    "                                 keras.layers.MaxPool2D(2,2),\n",
    "                                 keras.layers.Conv2D(32,(3,3),activation='relu'),\n",
    "                                 keras.layers.MaxPool2D(2,2),\n",
    "                                 keras.layers.Conv2D(64,(3,3),activation='relu'),\n",
    "                                 keras.layers.MaxPool2D(2,2),\n",
    "                                 keras.layers.Conv2D(128,(3,3),activation='relu'),\n",
    "                                 keras.layers.MaxPool2D(2,2),\n",
    "                                 keras.layers.Conv2D(256,(3,3),activation='relu'),\n",
    "                                 keras.layers.MaxPool2D(2,2),\n",
    "                                 keras.layers.Flatten(),\n",
    "                                 keras.layers.Dense(4096,activation='relu'),\n",
    "                                 keras.layers.Dense(6,activation='softmax') #softmax for multiclass\n",
    "                                 ])"
   ]
  },
  {
   "cell_type": "code",
   "execution_count": 14,
   "metadata": {},
   "outputs": [],
   "source": [
    "model.compile(optimizer= 'adam',\n",
    "              loss='categorical_crossentropy',\n",
    "             metrics=['accuracy'])"
   ]
  },
  {
   "cell_type": "code",
   "execution_count": 15,
   "metadata": {},
   "outputs": [
    {
     "name": "stdout",
     "output_type": "stream",
     "text": [
      "Model: \"sequential_1\"\n",
      "_________________________________________________________________\n",
      "Layer (type)                 Output Shape              Param #   \n",
      "=================================================================\n",
      "conv2d_5 (Conv2D)            (None, 222, 222, 16)      448       \n",
      "_________________________________________________________________\n",
      "max_pooling2d_5 (MaxPooling2 (None, 111, 111, 16)      0         \n",
      "_________________________________________________________________\n",
      "conv2d_6 (Conv2D)            (None, 109, 109, 32)      4640      \n",
      "_________________________________________________________________\n",
      "max_pooling2d_6 (MaxPooling2 (None, 54, 54, 32)        0         \n",
      "_________________________________________________________________\n",
      "conv2d_7 (Conv2D)            (None, 52, 52, 64)        18496     \n",
      "_________________________________________________________________\n",
      "max_pooling2d_7 (MaxPooling2 (None, 26, 26, 64)        0         \n",
      "_________________________________________________________________\n",
      "conv2d_8 (Conv2D)            (None, 24, 24, 128)       73856     \n",
      "_________________________________________________________________\n",
      "max_pooling2d_8 (MaxPooling2 (None, 12, 12, 128)       0         \n",
      "_________________________________________________________________\n",
      "conv2d_9 (Conv2D)            (None, 10, 10, 256)       295168    \n",
      "_________________________________________________________________\n",
      "max_pooling2d_9 (MaxPooling2 (None, 5, 5, 256)         0         \n",
      "_________________________________________________________________\n",
      "flatten_1 (Flatten)          (None, 6400)              0         \n",
      "_________________________________________________________________\n",
      "dense_2 (Dense)              (None, 4096)              26218496  \n",
      "_________________________________________________________________\n",
      "dense_3 (Dense)              (None, 6)                 24582     \n",
      "=================================================================\n",
      "Total params: 26,635,686\n",
      "Trainable params: 26,635,686\n",
      "Non-trainable params: 0\n",
      "_________________________________________________________________\n"
     ]
    }
   ],
   "source": [
    "model.summary()"
   ]
  },
  {
   "cell_type": "code",
   "execution_count": 16,
   "metadata": {},
   "outputs": [],
   "source": [
    "checkpoint_path = \"training_1/cp.ckpt\"\n",
    "checkpoint_dir = os.path.dirname(checkpoint_path)\n",
    "\n",
    "# Create a callback that saves the model's weights\n",
    "cp_callback = tf.keras.callbacks.ModelCheckpoint(filepath=checkpoint_path,\n",
    "                                                 save_weights_only=True,\n",
    "                                                 verbose=1)"
   ]
  },
  {
   "cell_type": "code",
   "execution_count": 17,
   "metadata": {},
   "outputs": [
    {
     "name": "stdout",
     "output_type": "stream",
     "text": [
      "Epoch 1/50\n",
      "59/59 [==============================] - 50s 853ms/step - loss: 1.7034 - accuracy: 0.2728 - val_loss: 1.3983 - val_accuracy: 0.4633\n",
      "Epoch 2/50\n",
      "59/59 [==============================] - 51s 866ms/step - loss: 1.4022 - accuracy: 0.4156 - val_loss: 1.2603 - val_accuracy: 0.4710\n",
      "Epoch 3/50\n",
      "59/59 [==============================] - 53s 890ms/step - loss: 1.2886 - accuracy: 0.4873 - val_loss: 1.2273 - val_accuracy: 0.5714\n",
      "Epoch 4/50\n",
      "59/59 [==============================] - 50s 848ms/step - loss: 1.1908 - accuracy: 0.5271 - val_loss: 1.0530 - val_accuracy: 0.5830\n",
      "Epoch 5/50\n",
      "59/59 [==============================] - 55s 933ms/step - loss: 1.0956 - accuracy: 0.5812 - val_loss: 1.1497 - val_accuracy: 0.5676\n",
      "Epoch 6/50\n",
      "59/59 [==============================] - 56s 951ms/step - loss: 1.0939 - accuracy: 0.5791 - val_loss: 1.0520 - val_accuracy: 0.5869\n",
      "Epoch 7/50\n",
      "59/59 [==============================] - 54s 919ms/step - loss: 0.9864 - accuracy: 0.6412 - val_loss: 0.9581 - val_accuracy: 0.6641\n",
      "Epoch 8/50\n",
      "59/59 [==============================] - 52s 887ms/step - loss: 0.9040 - accuracy: 0.6587 - val_loss: 1.1062 - val_accuracy: 0.6371\n",
      "Epoch 9/50\n",
      "59/59 [==============================] - 52s 886ms/step - loss: 0.8609 - accuracy: 0.6937 - val_loss: 1.1499 - val_accuracy: 0.6255\n",
      "Epoch 10/50\n",
      "59/59 [==============================] - 62s 1s/step - loss: 0.7495 - accuracy: 0.7197 - val_loss: 1.1489 - val_accuracy: 0.6139\n",
      "Epoch 11/50\n",
      "59/59 [==============================] - 50s 841ms/step - loss: 0.7066 - accuracy: 0.7442 - val_loss: 0.9820 - val_accuracy: 0.6795\n",
      "Epoch 12/50\n",
      "59/59 [==============================] - 53s 899ms/step - loss: 0.7246 - accuracy: 0.7330 - val_loss: 0.9205 - val_accuracy: 0.6795\n",
      "Epoch 13/50\n",
      "59/59 [==============================] - 52s 874ms/step - loss: 0.5900 - accuracy: 0.7909 - val_loss: 1.1170 - val_accuracy: 0.6834\n",
      "Epoch 14/50\n",
      "59/59 [==============================] - 52s 882ms/step - loss: 0.5486 - accuracy: 0.8057 - val_loss: 1.2557 - val_accuracy: 0.6023\n",
      "Epoch 15/50\n",
      "59/59 [==============================] - 52s 880ms/step - loss: 0.5215 - accuracy: 0.8121 - val_loss: 0.9917 - val_accuracy: 0.6950\n",
      "Epoch 16/50\n",
      "59/59 [==============================] - 51s 865ms/step - loss: 0.4181 - accuracy: 0.8487 - val_loss: 1.2217 - val_accuracy: 0.6332\n",
      "Epoch 17/50\n",
      "59/59 [==============================] - 48s 817ms/step - loss: 0.3276 - accuracy: 0.8864 - val_loss: 1.0284 - val_accuracy: 0.7220\n",
      "Epoch 18/50\n",
      "59/59 [==============================] - 48s 819ms/step - loss: 0.4224 - accuracy: 0.8540 - val_loss: 1.0222 - val_accuracy: 0.6757\n",
      "Epoch 19/50\n",
      "59/59 [==============================] - 47s 791ms/step - loss: 0.2718 - accuracy: 0.9039 - val_loss: 1.6772 - val_accuracy: 0.6602\n",
      "Epoch 20/50\n",
      "59/59 [==============================] - 47s 799ms/step - loss: 0.2507 - accuracy: 0.9130 - val_loss: 1.2245 - val_accuracy: 0.7066\n",
      "Epoch 21/50\n",
      "59/59 [==============================] - 49s 823ms/step - loss: 0.1792 - accuracy: 0.9342 - val_loss: 1.3525 - val_accuracy: 0.7104\n",
      "Epoch 22/50\n",
      "59/59 [==============================] - 51s 865ms/step - loss: 0.2150 - accuracy: 0.9278 - val_loss: 1.3783 - val_accuracy: 0.6988\n",
      "Epoch 23/50\n",
      "59/59 [==============================] - 48s 813ms/step - loss: 0.1356 - accuracy: 0.9522 - val_loss: 1.3407 - val_accuracy: 0.7375\n",
      "Epoch 24/50\n",
      "59/59 [==============================] - 51s 865ms/step - loss: 0.2213 - accuracy: 0.9220 - val_loss: 1.4299 - val_accuracy: 0.6680\n",
      "Epoch 25/50\n",
      "59/59 [==============================] - 52s 874ms/step - loss: 0.2855 - accuracy: 0.9018 - val_loss: 1.0931 - val_accuracy: 0.7606\n",
      "Epoch 26/50\n",
      "59/59 [==============================] - 49s 829ms/step - loss: 0.1313 - accuracy: 0.9554 - val_loss: 1.5180 - val_accuracy: 0.7143\n",
      "Epoch 27/50\n",
      "59/59 [==============================] - 48s 820ms/step - loss: 0.1179 - accuracy: 0.9565 - val_loss: 1.4698 - val_accuracy: 0.7066\n",
      "Epoch 28/50\n",
      "59/59 [==============================] - 48s 815ms/step - loss: 0.1126 - accuracy: 0.9607 - val_loss: 1.4618 - val_accuracy: 0.7375\n",
      "Epoch 29/50\n",
      "59/59 [==============================] - 48s 818ms/step - loss: 0.0919 - accuracy: 0.9735 - val_loss: 1.7222 - val_accuracy: 0.7104\n",
      "Epoch 30/50\n",
      "59/59 [==============================] - 48s 818ms/step - loss: 0.0884 - accuracy: 0.9713 - val_loss: 1.3688 - val_accuracy: 0.7606\n",
      "Epoch 31/50\n",
      "59/59 [==============================] - 48s 808ms/step - loss: 0.0845 - accuracy: 0.9697 - val_loss: 1.9057 - val_accuracy: 0.6834\n",
      "Epoch 32/50\n",
      "59/59 [==============================] - 47s 801ms/step - loss: 0.1583 - accuracy: 0.9512 - val_loss: 1.3848 - val_accuracy: 0.7220\n",
      "Epoch 33/50\n",
      "59/59 [==============================] - 47s 790ms/step - loss: 0.1078 - accuracy: 0.9660 - val_loss: 1.6580 - val_accuracy: 0.7336\n",
      "Epoch 34/50\n",
      "59/59 [==============================] - 47s 790ms/step - loss: 0.1484 - accuracy: 0.9506 - val_loss: 1.2164 - val_accuracy: 0.7452\n",
      "Epoch 35/50\n",
      "59/59 [==============================] - 47s 805ms/step - loss: 0.1188 - accuracy: 0.9607 - val_loss: 1.3882 - val_accuracy: 0.7259\n",
      "Epoch 36/50\n",
      "59/59 [==============================] - 48s 809ms/step - loss: 0.1149 - accuracy: 0.9591 - val_loss: 1.2736 - val_accuracy: 0.7645\n",
      "Epoch 37/50\n",
      "59/59 [==============================] - 47s 805ms/step - loss: 0.0566 - accuracy: 0.9825 - val_loss: 1.5956 - val_accuracy: 0.7220\n",
      "Epoch 38/50\n",
      "59/59 [==============================] - 48s 810ms/step - loss: 0.0328 - accuracy: 0.9920 - val_loss: 1.4790 - val_accuracy: 0.7568\n",
      "Epoch 39/50\n",
      "59/59 [==============================] - 49s 831ms/step - loss: 0.0213 - accuracy: 0.9963 - val_loss: 1.6042 - val_accuracy: 0.7529\n",
      "Epoch 40/50\n",
      "59/59 [==============================] - 53s 902ms/step - loss: 0.0914 - accuracy: 0.9676 - val_loss: 1.4106 - val_accuracy: 0.7336\n",
      "Epoch 41/50\n",
      "59/59 [==============================] - 46s 788ms/step - loss: 0.0651 - accuracy: 0.9825 - val_loss: 2.1885 - val_accuracy: 0.7104\n",
      "Epoch 42/50\n",
      "59/59 [==============================] - 47s 790ms/step - loss: 0.1213 - accuracy: 0.9639 - val_loss: 1.2682 - val_accuracy: 0.7297\n",
      "Epoch 43/50\n",
      "59/59 [==============================] - 2599s 44s/step - loss: 0.0776 - accuracy: 0.9761 - val_loss: 1.5396 - val_accuracy: 0.7568\n",
      "Epoch 44/50\n",
      "59/59 [==============================] - 46s 782ms/step - loss: 0.0591 - accuracy: 0.9841 - val_loss: 1.3669 - val_accuracy: 0.7645\n",
      "Epoch 45/50\n",
      "59/59 [==============================] - 50s 853ms/step - loss: 0.0936 - accuracy: 0.9676 - val_loss: 1.6818 - val_accuracy: 0.7375\n",
      "Epoch 46/50\n",
      "59/59 [==============================] - 50s 854ms/step - loss: 0.0639 - accuracy: 0.9772 - val_loss: 1.3296 - val_accuracy: 0.7375\n",
      "Epoch 47/50\n",
      "59/59 [==============================] - 50s 851ms/step - loss: 0.0402 - accuracy: 0.9867 - val_loss: 1.5603 - val_accuracy: 0.7838\n",
      "Epoch 48/50\n",
      "59/59 [==============================] - 50s 846ms/step - loss: 0.0214 - accuracy: 0.9936 - val_loss: 1.4005 - val_accuracy: 0.7876\n",
      "Epoch 49/50\n",
      "59/59 [==============================] - 49s 838ms/step - loss: 0.1642 - accuracy: 0.9533 - val_loss: 1.2862 - val_accuracy: 0.7490\n",
      "Epoch 50/50\n",
      "59/59 [==============================] - 50s 845ms/step - loss: 0.0492 - accuracy: 0.9851 - val_loss: 1.3402 - val_accuracy: 0.7722\n"
     ]
    }
   ],
   "source": [
    "model_fit=model.fit(train_dataset,\n",
    "                   epochs=50,\n",
    "                   validation_data=validation_dataset)"
   ]
  },
  {
   "cell_type": "code",
   "execution_count": 18,
   "metadata": {},
   "outputs": [],
   "source": [
    "probabilities=model.predict(test_dataset)"
   ]
  },
  {
   "cell_type": "code",
   "execution_count": 19,
   "metadata": {},
   "outputs": [
    {
     "data": {
      "text/plain": [
       "<bound method Model.load_weights of <tensorflow.python.keras.engine.sequential.Sequential object at 0x000001D742A39910>>"
      ]
     },
     "execution_count": 19,
     "metadata": {},
     "output_type": "execute_result"
    }
   ],
   "source": [
    "model.load_weights\n"
   ]
  },
  {
   "cell_type": "code",
   "execution_count": 26,
   "metadata": {},
   "outputs": [
    {
     "name": "stderr",
     "output_type": "stream",
     "text": [
      "A subdirectory or file -p already exists.\n",
      "Error occurred while processing: -p.\n",
      "A subdirectory or file saved_model already exists.\n",
      "Error occurred while processing: saved_model.\n"
     ]
    },
    {
     "name": "stdout",
     "output_type": "stream",
     "text": [
      "INFO:tensorflow:Assets written to: saved_model/model1\\assets\n"
     ]
    }
   ],
   "source": [
    "!mkdir -p saved_model\n",
    "model.save('saved_model/model1')"
   ]
  },
  {
   "cell_type": "code",
   "execution_count": 30,
   "metadata": {},
   "outputs": [],
   "source": [
    "model.save('model.h5')\n"
   ]
  },
  {
   "cell_type": "code",
   "execution_count": null,
   "metadata": {},
   "outputs": [],
   "source": []
  }
 ],
 "metadata": {
  "kernelspec": {
   "display_name": "Python 3",
   "language": "python",
   "name": "python3"
  },
  "language_info": {
   "codemirror_mode": {
    "name": "ipython",
    "version": 3
   },
   "file_extension": ".py",
   "mimetype": "text/x-python",
   "name": "python",
   "nbconvert_exporter": "python",
   "pygments_lexer": "ipython3",
   "version": "3.8.5"
  }
 },
 "nbformat": 4,
 "nbformat_minor": 4
}
